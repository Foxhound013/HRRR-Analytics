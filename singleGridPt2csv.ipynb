{
 "cells": [
  {
   "cell_type": "code",
   "execution_count": null,
   "metadata": {},
   "outputs": [],
   "source": [
    "# This notebook is intended to take a set of csv files generated from the bash script singleGridPt2csv\n",
    "# and convert them to a format conducive to plotting the hrrr forecasts as a time series.\n",
    "# There is some minor manual formatting to be done after this script completes.\n",
    "#\n",
    "# NOTE: FILES SHOULD BE DELETED IF THEY ALREADY EXIST, OTHERWISE THIS SCRIPT WILL APPEND TO THEM\n",
    "\n",
    "import pandas as pd\n",
    "import numpy as np"
   ]
  },
  {
   "cell_type": "code",
   "execution_count": null,
   "metadata": {},
   "outputs": [],
   "source": [
    "# Establish the file name pieces\n",
    "fstart = 'C:/Users/wdownin/Desktop/scratch/2019.03.'\n",
    "fmid = '.Reduced.hrrr.t'\n",
    "fend = 'z.wrfsfcf'\n",
    "ftype = '.grib2.csv'"
   ]
  },
  {
   "cell_type": "code",
   "execution_count": null,
   "metadata": {},
   "outputs": [],
   "source": [
    "def getRow(file):\n",
    "    df = pd.read_csv(file,\n",
    "                  header=None,\n",
    "                  names=['lon', 'lat', 'delimit'])\n",
    "    \n",
    "    # Split on delimiters\n",
    "    df[['val1', 'd', 'var', 'level', 'fcstType', '']] = df.delimit.str.split(':', expand=True)\n",
    "    df[['val2', 'val']] = df.val1.str.split('=', expand=True)\n",
    "    \n",
    "    #Transposed data to be added to csv\n",
    "    valT = pd.DataFrame(df.val).T\n",
    "    \n",
    "    return valT"
   ]
  },
  {
   "cell_type": "code",
   "execution_count": null,
   "metadata": {},
   "outputs": [],
   "source": [
    "# loop through the files and do the computation necessary\n",
    "for fcsthr in range(0, 19, 1):\n",
    "    for hour in range(0, 24, 1):\n",
    "        for day in range(28, 32, 1):\n",
    "            #Build your file name and output file name\n",
    "            file = fstart + \"%02d\"%day + fmid + \"%02d\"%hour + fend + \"%02d\"%fcsthr + ftype\n",
    "            file_out = './out/' + fstart + \"%02d\"%day + '.' + 'fcsthr' + \"%02d\"%fcsthr + '.csv'\n",
    "            \n",
    "            #send to function to get the row\n",
    "            data = getRow(file)\n",
    "\n",
    "            #write to csv\n",
    "            data.to_csv(file_out, mode='a', header=False, index=False)"
   ]
  },
  {
   "cell_type": "code",
   "execution_count": null,
   "metadata": {},
   "outputs": [],
   "source": []
  }
 ],
 "metadata": {
  "kernelspec": {
   "display_name": "Python 3",
   "language": "python",
   "name": "python3"
  },
  "language_info": {
   "codemirror_mode": {
    "name": "ipython",
    "version": 3
   },
   "file_extension": ".py",
   "mimetype": "text/x-python",
   "name": "python",
   "nbconvert_exporter": "python",
   "pygments_lexer": "ipython3",
   "version": "3.7.3"
  }
 },
 "nbformat": 4,
 "nbformat_minor": 2
}
